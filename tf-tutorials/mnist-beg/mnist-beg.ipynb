{
 "cells": [
  {
   "cell_type": "markdown",
   "metadata": {
    "collapsed": false
   },
   "source": [
    "_______________________________________________________________________________\n",
    "This notebook follows the \"MNIST For ML Beginners\" tutorial on the TensorFlow \n",
    "website; at the time of writing this is located at \n",
    "https://www.tensorflow.org/versions/r0.8/tutorials/mnist/beginners/index.html.\n",
    "This notebook contains a simple softmax regression model to solve the MNIST\n",
    "problem; for a deep neural networks approach, see mnist-exp.ipynb\n",
    "_______________________________________________________________________________"
   ]
  },
  {
   "cell_type": "markdown",
   "metadata": {},
   "source": [
    "## Import Data"
   ]
  },
  {
   "cell_type": "code",
   "execution_count": 1,
   "metadata": {
    "collapsed": false
   },
   "outputs": [
    {
     "name": "stdout",
     "output_type": "stream",
     "text": [
      "Successfully downloaded train-images-idx3-ubyte.gz 9912422 bytes.\n",
      "Extracting MNIST_data/train-images-idx3-ubyte.gz\n",
      "Successfully downloaded train-labels-idx1-ubyte.gz 28881 bytes.\n",
      "Extracting MNIST_data/train-labels-idx1-ubyte.gz\n",
      "Successfully downloaded t10k-images-idx3-ubyte.gz 1648877 bytes.\n",
      "Extracting MNIST_data/t10k-images-idx3-ubyte.gz\n",
      "Successfully downloaded t10k-labels-idx1-ubyte.gz 4542 bytes.\n",
      "Extracting MNIST_data/t10k-labels-idx1-ubyte.gz\n"
     ]
    }
   ],
   "source": [
    "# (_._.images/labels)\n",
    "# mnist.train ([55000, 784/10] tensor)\n",
    "# mnist.test ([10000, 784/10] tensor)\n",
    "# mnist.validation (5000, 784/10] tensor)\n",
    "from tensorflow.examples.tutorials.mnist import input_data\n",
    "mnist = input_data.read_data_sets(\"MNIST_data/\", one_hot=True) # one_hot turns scalar label into a one-hot vector"
   ]
  },
  {
   "cell_type": "markdown",
   "metadata": {},
   "source": [
    "## Define Model"
   ]
  },
  {
   "cell_type": "code",
   "execution_count": 2,
   "metadata": {
    "collapsed": true
   },
   "outputs": [],
   "source": [
    "\"\"\"TensorFlow also does its heavy lifting outside python [like NumPy], but it takes a step further to \n",
    "avoid this overhead [of translating the results back to Python]. Instead of running a single expensive \n",
    "operation independently from Python, TensorFlow lets us describe a graph of interacting operations that \n",
    "run entirely outside Python. These interacting operations are described by manipulating symbolic variables.\"\"\"\n",
    "\n",
    "import tensorflow as tf\n",
    "\n",
    "# We want to be able to input any number of MNIST images; this is achieved with a 'placeholder'\n",
    "x = tf.placeholder(tf.float32, [None, 784])\n",
    "# A 'Variable' is a modifiable tensor that lives in TensorFlow's graph of interacting operations\n",
    "W = tf.Variable(tf.zeros([784, 10]))\n",
    "b = tf.Variable(tf.zeros([10]))\n",
    "\n",
    "# implement the model\n",
    "y = tf.nn.softmax(tf.matmul(x, W) + b)"
   ]
  },
  {
   "cell_type": "markdown",
   "metadata": {},
   "source": [
    "## Train Model"
   ]
  },
  {
   "cell_type": "code",
   "execution_count": 4,
   "metadata": {
    "collapsed": false
   },
   "outputs": [],
   "source": [
    "# new placeholder to input the correct answers\n",
    "y_ = tf.placeholder(tf.float32, [None, 10])\n",
    "\n",
    "# implement cross-entropy loss\n",
    "cross_entropy = tf.reduce_mean(-tf.reduce_sum(y_ * tf.log(y), reduction_indices=[1]))\n",
    "\n",
    "# set up 1 step of gradient descent training\n",
    "train_step = tf.train.GradientDescentOptimizer(0.5).minimize(cross_entropy)\n",
    "\n",
    "# initialize all the variables we created\n",
    "init = tf.initialize_all_variables()\n",
    "\n",
    "# launch the model in a session\n",
    "sess = tf.Session()\n",
    "\n",
    "# run the operation that initializes the variables\n",
    "sess.run(init)\n",
    "\n",
    "# run the training step 1000 times (using stochastic gradient descent)\n",
    "for i in range(1000):\n",
    "    # get a batch of 100 random data points from training set\n",
    "    batch_xs, batch_ys = mnist.train.next_batch(100)  \n",
    "    # feed in batch data to replace the 'placeholders'\n",
    "    sess.run(train_step, feed_dict={x: batch_xs, y_: batch_ys})"
   ]
  },
  {
   "cell_type": "markdown",
   "metadata": {},
   "source": [
    "## Evaluate Model"
   ]
  },
  {
   "cell_type": "code",
   "execution_count": 5,
   "metadata": {
    "collapsed": false
   },
   "outputs": [
    {
     "name": "stdout",
     "output_type": "stream",
     "text": [
      "0.9192\n"
     ]
    }
   ],
   "source": [
    "# get a list of booleans telling us which predictions match truth\n",
    "correct_prediction = tf.equal(tf.argmax(y, 1), tf.argmax(y_, 1))\n",
    "\n",
    "# cast booleans to floating points and take the mean\n",
    "accuracy = tf.reduce_mean(tf.cast(correct_prediction, tf.float32))\n",
    "\n",
    "# print results\n",
    "print(sess.run(accuracy, feed_dict={x: mnist.test.images, y_: mnist.test.labels}))"
   ]
  },
  {
   "cell_type": "code",
   "execution_count": 6,
   "metadata": {
    "collapsed": true
   },
   "outputs": [],
   "source": [
    "# close the session\n",
    "sess.close()"
   ]
  }
 ],
 "metadata": {
  "kernelspec": {
   "display_name": "Python 2",
   "language": "python",
   "name": "python2"
  },
  "language_info": {
   "codemirror_mode": {
    "name": "ipython",
    "version": 2
   },
   "file_extension": ".py",
   "mimetype": "text/x-python",
   "name": "python",
   "nbconvert_exporter": "python",
   "pygments_lexer": "ipython2",
   "version": "2.7.12"
  }
 },
 "nbformat": 4,
 "nbformat_minor": 0
}
